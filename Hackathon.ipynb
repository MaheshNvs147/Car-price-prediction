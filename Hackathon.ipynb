{
 "cells": [
  {
   "cell_type": "code",
   "execution_count": 1,
   "id": "44b43f0a",
   "metadata": {},
   "outputs": [],
   "source": [
    "import warnings \n",
    "import math\n",
    "import pandas as pd\n",
    "import numpy as np\n",
    "import matplotlib.pyplot as plt \n",
    "import seaborn as sns\n",
    "\n",
    "from sklearn.preprocessing import StandardScaler, LabelEncoder\n",
    "from sklearn.model_selection import train_test_split, GridSearchCV\n",
    "from sklearn.metrics import accuracy_score, mean_squared_error\n",
    "from sklearn.linear_model import LinearRegression\n",
    "from sklearn.tree import DecisionTreeRegressor\n",
    "from sklearn.ensemble import RandomForestRegressor\n",
    "import xgboost as xgb\n",
    "import torch \n",
    "import torch.nn as nn\n",
    "\n",
    "warnings.filterwarnings('ignore', category=RuntimeWarning)\n",
    "pd.set_option('display.max_columns', None)\n",
    "plt.style.use(style='ggplot')\n",
    "%matplotlib inline"
   ]
  },
  {
   "cell_type": "code",
   "execution_count": 2,
   "id": "4ca696f8",
   "metadata": {},
   "outputs": [],
   "source": [
    "df = pd.read_csv(\"/Users/maheshnukala/Desktop/IIIT/Hackathon/Training_Data_Set.csv\")"
   ]
  },
  {
   "cell_type": "code",
   "execution_count": 3,
   "id": "c3fa4d6e",
   "metadata": {},
   "outputs": [
    {
     "data": {
      "text/html": [
       "<div>\n",
       "<style scoped>\n",
       "    .dataframe tbody tr th:only-of-type {\n",
       "        vertical-align: middle;\n",
       "    }\n",
       "\n",
       "    .dataframe tbody tr th {\n",
       "        vertical-align: top;\n",
       "    }\n",
       "\n",
       "    .dataframe thead th {\n",
       "        text-align: right;\n",
       "    }\n",
       "</style>\n",
       "<table border=\"1\" class=\"dataframe\">\n",
       "  <thead>\n",
       "    <tr style=\"text-align: right;\">\n",
       "      <th></th>\n",
       "      <th>Id</th>\n",
       "      <th>Maker</th>\n",
       "      <th>model</th>\n",
       "      <th>Location</th>\n",
       "      <th>Distance</th>\n",
       "      <th>Owner Type</th>\n",
       "      <th>manufacture_year</th>\n",
       "      <th>Age of car</th>\n",
       "      <th>engine_displacement</th>\n",
       "      <th>engine_power</th>\n",
       "      <th>body_type</th>\n",
       "      <th>Vroom Audit Rating</th>\n",
       "      <th>transmission</th>\n",
       "      <th>door_count</th>\n",
       "      <th>seat_count</th>\n",
       "      <th>fuel_type</th>\n",
       "      <th>Price</th>\n",
       "    </tr>\n",
       "  </thead>\n",
       "  <tbody>\n",
       "    <tr>\n",
       "      <th>0</th>\n",
       "      <td>25001</td>\n",
       "      <td>skoda</td>\n",
       "      <td>octavia</td>\n",
       "      <td>Ahmedabad</td>\n",
       "      <td>NaN</td>\n",
       "      <td>Second</td>\n",
       "      <td>1964</td>\n",
       "      <td>55</td>\n",
       "      <td>1964</td>\n",
       "      <td>147.0</td>\n",
       "      <td>compact</td>\n",
       "      <td>8</td>\n",
       "      <td>man</td>\n",
       "      <td>None</td>\n",
       "      <td>None</td>\n",
       "      <td>petrol</td>\n",
       "      <td>543764.25</td>\n",
       "    </tr>\n",
       "    <tr>\n",
       "      <th>1</th>\n",
       "      <td>25002</td>\n",
       "      <td>fiat</td>\n",
       "      <td>panda</td>\n",
       "      <td>Ahmedabad</td>\n",
       "      <td>27750.0</td>\n",
       "      <td>Third</td>\n",
       "      <td>2012</td>\n",
       "      <td>7</td>\n",
       "      <td>1242</td>\n",
       "      <td>51.0</td>\n",
       "      <td>NaN</td>\n",
       "      <td>6</td>\n",
       "      <td>man</td>\n",
       "      <td>4</td>\n",
       "      <td>4</td>\n",
       "      <td>petrol</td>\n",
       "      <td>401819.25</td>\n",
       "    </tr>\n",
       "    <tr>\n",
       "      <th>2</th>\n",
       "      <td>25003</td>\n",
       "      <td>bmw</td>\n",
       "      <td>x1</td>\n",
       "      <td>Hyderabad</td>\n",
       "      <td>46000.0</td>\n",
       "      <td>Third</td>\n",
       "      <td>2014</td>\n",
       "      <td>5</td>\n",
       "      <td>1995</td>\n",
       "      <td>105.0</td>\n",
       "      <td>NaN</td>\n",
       "      <td>7</td>\n",
       "      <td>auto</td>\n",
       "      <td>4</td>\n",
       "      <td>5</td>\n",
       "      <td>diesel</td>\n",
       "      <td>2392855.50</td>\n",
       "    </tr>\n",
       "    <tr>\n",
       "      <th>3</th>\n",
       "      <td>25004</td>\n",
       "      <td>nissan</td>\n",
       "      <td>juke</td>\n",
       "      <td>Mumbai</td>\n",
       "      <td>43949.0</td>\n",
       "      <td>Third</td>\n",
       "      <td>2011</td>\n",
       "      <td>8</td>\n",
       "      <td>1618</td>\n",
       "      <td>140.0</td>\n",
       "      <td>NaN</td>\n",
       "      <td>7</td>\n",
       "      <td>man</td>\n",
       "      <td>4</td>\n",
       "      <td>5</td>\n",
       "      <td>petrol</td>\n",
       "      <td>958606.50</td>\n",
       "    </tr>\n",
       "    <tr>\n",
       "      <th>4</th>\n",
       "      <td>25005</td>\n",
       "      <td>bmw</td>\n",
       "      <td>x5</td>\n",
       "      <td>Jaipur</td>\n",
       "      <td>59524.0</td>\n",
       "      <td>Fourth &amp; Above</td>\n",
       "      <td>2012</td>\n",
       "      <td>7</td>\n",
       "      <td>2993</td>\n",
       "      <td>180.0</td>\n",
       "      <td>NaN</td>\n",
       "      <td>7</td>\n",
       "      <td>auto</td>\n",
       "      <td>4</td>\n",
       "      <td>5</td>\n",
       "      <td>diesel</td>\n",
       "      <td>3085561.50</td>\n",
       "    </tr>\n",
       "  </tbody>\n",
       "</table>\n",
       "</div>"
      ],
      "text/plain": [
       "      Id   Maker    model   Location  Distance       Owner Type  \\\n",
       "0  25001   skoda  octavia  Ahmedabad        NaN          Second   \n",
       "1  25002    fiat    panda  Ahmedabad    27750.0           Third   \n",
       "2  25003     bmw       x1  Hyderabad    46000.0           Third   \n",
       "3  25004  nissan     juke     Mumbai    43949.0           Third   \n",
       "4  25005     bmw       x5     Jaipur    59524.0  Fourth & Above   \n",
       "\n",
       "   manufacture_year  Age of car  engine_displacement  engine_power body_type  \\\n",
       "0              1964          55                 1964         147.0   compact   \n",
       "1              2012           7                 1242          51.0       NaN   \n",
       "2              2014           5                 1995         105.0       NaN   \n",
       "3              2011           8                 1618         140.0       NaN   \n",
       "4              2012           7                 2993         180.0       NaN   \n",
       "\n",
       "   Vroom Audit Rating transmission door_count seat_count fuel_type       Price  \n",
       "0                   8          man       None       None    petrol   543764.25  \n",
       "1                   6          man          4          4    petrol   401819.25  \n",
       "2                   7         auto          4          5    diesel  2392855.50  \n",
       "3                   7          man          4          5    petrol   958606.50  \n",
       "4                   7         auto          4          5    diesel  3085561.50  "
      ]
     },
     "execution_count": 3,
     "metadata": {},
     "output_type": "execute_result"
    }
   ],
   "source": [
    "df.head()"
   ]
  },
  {
   "cell_type": "code",
   "execution_count": 4,
   "id": "760f8faa",
   "metadata": {},
   "outputs": [
    {
     "data": {
      "text/plain": [
       "(53515, 17)"
      ]
     },
     "execution_count": 4,
     "metadata": {},
     "output_type": "execute_result"
    }
   ],
   "source": [
    "df.shape"
   ]
  },
  {
   "cell_type": "code",
   "execution_count": 5,
   "id": "499eea23",
   "metadata": {},
   "outputs": [
    {
     "data": {
      "text/html": [
       "<div>\n",
       "<style scoped>\n",
       "    .dataframe tbody tr th:only-of-type {\n",
       "        vertical-align: middle;\n",
       "    }\n",
       "\n",
       "    .dataframe tbody tr th {\n",
       "        vertical-align: top;\n",
       "    }\n",
       "\n",
       "    .dataframe thead th {\n",
       "        text-align: right;\n",
       "    }\n",
       "</style>\n",
       "<table border=\"1\" class=\"dataframe\">\n",
       "  <thead>\n",
       "    <tr style=\"text-align: right;\">\n",
       "      <th></th>\n",
       "      <th>Id</th>\n",
       "      <th>Distance</th>\n",
       "      <th>manufacture_year</th>\n",
       "      <th>Age of car</th>\n",
       "      <th>engine_displacement</th>\n",
       "      <th>engine_power</th>\n",
       "      <th>Vroom Audit Rating</th>\n",
       "      <th>Price</th>\n",
       "    </tr>\n",
       "  </thead>\n",
       "  <tbody>\n",
       "    <tr>\n",
       "      <th>count</th>\n",
       "      <td>53515.000000</td>\n",
       "      <td>5.230400e+04</td>\n",
       "      <td>53515.000000</td>\n",
       "      <td>53515.000000</td>\n",
       "      <td>53515.000000</td>\n",
       "      <td>52076.000000</td>\n",
       "      <td>53515.000000</td>\n",
       "      <td>5.351500e+04</td>\n",
       "    </tr>\n",
       "    <tr>\n",
       "      <th>mean</th>\n",
       "      <td>51758.000000</td>\n",
       "      <td>9.454626e+04</td>\n",
       "      <td>2010.408110</td>\n",
       "      <td>8.591890</td>\n",
       "      <td>1904.049014</td>\n",
       "      <td>100.448345</td>\n",
       "      <td>5.998374</td>\n",
       "      <td>1.098084e+06</td>\n",
       "    </tr>\n",
       "    <tr>\n",
       "      <th>std</th>\n",
       "      <td>15448.594165</td>\n",
       "      <td>2.755617e+05</td>\n",
       "      <td>4.650322</td>\n",
       "      <td>4.650322</td>\n",
       "      <td>1496.564596</td>\n",
       "      <td>45.330622</td>\n",
       "      <td>1.418336</td>\n",
       "      <td>8.441565e+05</td>\n",
       "    </tr>\n",
       "    <tr>\n",
       "      <th>min</th>\n",
       "      <td>25001.000000</td>\n",
       "      <td>0.000000e+00</td>\n",
       "      <td>1934.000000</td>\n",
       "      <td>3.000000</td>\n",
       "      <td>14.000000</td>\n",
       "      <td>10.000000</td>\n",
       "      <td>4.000000</td>\n",
       "      <td>3.000000e+00</td>\n",
       "    </tr>\n",
       "    <tr>\n",
       "      <th>25%</th>\n",
       "      <td>38379.500000</td>\n",
       "      <td>1.549000e+04</td>\n",
       "      <td>2008.000000</td>\n",
       "      <td>5.000000</td>\n",
       "      <td>1395.000000</td>\n",
       "      <td>73.000000</td>\n",
       "      <td>5.000000</td>\n",
       "      <td>5.051812e+05</td>\n",
       "    </tr>\n",
       "    <tr>\n",
       "      <th>50%</th>\n",
       "      <td>51758.000000</td>\n",
       "      <td>6.552000e+04</td>\n",
       "      <td>2011.000000</td>\n",
       "      <td>8.000000</td>\n",
       "      <td>1896.000000</td>\n",
       "      <td>91.000000</td>\n",
       "      <td>6.000000</td>\n",
       "      <td>8.854552e+05</td>\n",
       "    </tr>\n",
       "    <tr>\n",
       "      <th>75%</th>\n",
       "      <td>65136.500000</td>\n",
       "      <td>1.356410e+05</td>\n",
       "      <td>2014.000000</td>\n",
       "      <td>11.000000</td>\n",
       "      <td>1995.000000</td>\n",
       "      <td>125.000000</td>\n",
       "      <td>7.000000</td>\n",
       "      <td>1.477829e+06</td>\n",
       "    </tr>\n",
       "    <tr>\n",
       "      <th>max</th>\n",
       "      <td>78515.000000</td>\n",
       "      <td>9.899800e+06</td>\n",
       "      <td>2016.000000</td>\n",
       "      <td>85.000000</td>\n",
       "      <td>32000.000000</td>\n",
       "      <td>896.000000</td>\n",
       "      <td>8.000000</td>\n",
       "      <td>2.212078e+07</td>\n",
       "    </tr>\n",
       "  </tbody>\n",
       "</table>\n",
       "</div>"
      ],
      "text/plain": [
       "                 Id     Distance   manufacture_year    Age of car  \\\n",
       "count  53515.000000  5.230400e+04      53515.000000  53515.000000   \n",
       "mean   51758.000000  9.454626e+04       2010.408110      8.591890   \n",
       "std    15448.594165  2.755617e+05          4.650322      4.650322   \n",
       "min    25001.000000  0.000000e+00       1934.000000      3.000000   \n",
       "25%    38379.500000  1.549000e+04       2008.000000      5.000000   \n",
       "50%    51758.000000  6.552000e+04       2011.000000      8.000000   \n",
       "75%    65136.500000  1.356410e+05       2014.000000     11.000000   \n",
       "max    78515.000000  9.899800e+06       2016.000000     85.000000   \n",
       "\n",
       "       engine_displacement  engine_power  Vroom Audit Rating         Price  \n",
       "count         53515.000000  52076.000000        53515.000000  5.351500e+04  \n",
       "mean           1904.049014    100.448345            5.998374  1.098084e+06  \n",
       "std            1496.564596     45.330622            1.418336  8.441565e+05  \n",
       "min              14.000000     10.000000            4.000000  3.000000e+00  \n",
       "25%            1395.000000     73.000000            5.000000  5.051812e+05  \n",
       "50%            1896.000000     91.000000            6.000000  8.854552e+05  \n",
       "75%            1995.000000    125.000000            7.000000  1.477829e+06  \n",
       "max           32000.000000    896.000000            8.000000  2.212078e+07  "
      ]
     },
     "execution_count": 5,
     "metadata": {},
     "output_type": "execute_result"
    }
   ],
   "source": [
    "df.describe()"
   ]
  },
  {
   "cell_type": "code",
   "execution_count": 6,
   "id": "959dd28f",
   "metadata": {},
   "outputs": [
    {
     "name": "stdout",
     "output_type": "stream",
     "text": [
      "<class 'pandas.core.frame.DataFrame'>\n",
      "RangeIndex: 53515 entries, 0 to 53514\n",
      "Data columns (total 17 columns):\n",
      " #   Column               Non-Null Count  Dtype  \n",
      "---  ------               --------------  -----  \n",
      " 0   Id                   53515 non-null  int64  \n",
      " 1   Maker                53515 non-null  object \n",
      " 2   model                53515 non-null  object \n",
      " 3   Location             53515 non-null  object \n",
      " 4   Distance             52304 non-null  float64\n",
      " 5   Owner Type           53515 non-null  object \n",
      " 6   manufacture_year     53515 non-null  int64  \n",
      " 7   Age of car           53515 non-null  int64  \n",
      " 8   engine_displacement  53515 non-null  int64  \n",
      " 9   engine_power         52076 non-null  float64\n",
      " 10  body_type            4136 non-null   object \n",
      " 11  Vroom Audit Rating   53515 non-null  int64  \n",
      " 12  transmission         53515 non-null  object \n",
      " 13  door_count           53515 non-null  object \n",
      " 14  seat_count           53515 non-null  object \n",
      " 15  fuel_type            53515 non-null  object \n",
      " 16  Price                53515 non-null  float64\n",
      "dtypes: float64(3), int64(5), object(9)\n",
      "memory usage: 6.9+ MB\n"
     ]
    }
   ],
   "source": [
    "df.info()"
   ]
  },
  {
   "cell_type": "code",
   "execution_count": 7,
   "id": "877789d6",
   "metadata": {},
   "outputs": [
    {
     "data": {
      "text/plain": [
       "Id                         0\n",
       "Maker                      0\n",
       "model                      0\n",
       "Location                   0\n",
       "Distance                1211\n",
       "Owner Type                 0\n",
       "manufacture_year           0\n",
       "Age of car                 0\n",
       "engine_displacement        0\n",
       "engine_power            1439\n",
       "body_type              49379\n",
       "Vroom Audit Rating         0\n",
       "transmission               0\n",
       "door_count                 0\n",
       "seat_count                 0\n",
       "fuel_type                  0\n",
       "Price                      0\n",
       "dtype: int64"
      ]
     },
     "execution_count": 7,
     "metadata": {},
     "output_type": "execute_result"
    }
   ],
   "source": [
    "df.isnull().sum()"
   ]
  },
  {
   "cell_type": "code",
   "execution_count": 8,
   "id": "1f18d3e9",
   "metadata": {},
   "outputs": [],
   "source": [
    "test_df = pd.read_csv('/Users/maheshnukala/Desktop/IIIT/Hackathon/Test_Data_Set.csv')"
   ]
  },
  {
   "cell_type": "code",
   "execution_count": 9,
   "id": "58380bc6",
   "metadata": {},
   "outputs": [
    {
     "data": {
      "text/html": [
       "<div>\n",
       "<style scoped>\n",
       "    .dataframe tbody tr th:only-of-type {\n",
       "        vertical-align: middle;\n",
       "    }\n",
       "\n",
       "    .dataframe tbody tr th {\n",
       "        vertical-align: top;\n",
       "    }\n",
       "\n",
       "    .dataframe thead th {\n",
       "        text-align: right;\n",
       "    }\n",
       "</style>\n",
       "<table border=\"1\" class=\"dataframe\">\n",
       "  <thead>\n",
       "    <tr style=\"text-align: right;\">\n",
       "      <th></th>\n",
       "      <th>Id</th>\n",
       "      <th>Maker</th>\n",
       "      <th>model</th>\n",
       "      <th>Location</th>\n",
       "      <th>Distance</th>\n",
       "      <th>Owner Type</th>\n",
       "      <th>manufacture_year</th>\n",
       "      <th>Age of car</th>\n",
       "      <th>engine_displacement</th>\n",
       "      <th>engine_power</th>\n",
       "      <th>body_type</th>\n",
       "      <th>Vroom Audit Rating</th>\n",
       "      <th>transmission</th>\n",
       "      <th>door_count</th>\n",
       "      <th>seat_count</th>\n",
       "      <th>fuel_type</th>\n",
       "    </tr>\n",
       "  </thead>\n",
       "  <tbody>\n",
       "    <tr>\n",
       "      <th>0</th>\n",
       "      <td>11001</td>\n",
       "      <td>skoda</td>\n",
       "      <td>octavia</td>\n",
       "      <td>Mumbai</td>\n",
       "      <td>150000.0</td>\n",
       "      <td>First</td>\n",
       "      <td>2007</td>\n",
       "      <td>12</td>\n",
       "      <td>1595</td>\n",
       "      <td>75.0</td>\n",
       "      <td>NaN</td>\n",
       "      <td>5</td>\n",
       "      <td>man</td>\n",
       "      <td>4</td>\n",
       "      <td>5</td>\n",
       "      <td>petrol</td>\n",
       "    </tr>\n",
       "    <tr>\n",
       "      <th>1</th>\n",
       "      <td>11002</td>\n",
       "      <td>skoda</td>\n",
       "      <td>rapid</td>\n",
       "      <td>Coimbatore</td>\n",
       "      <td>29376.0</td>\n",
       "      <td>Third</td>\n",
       "      <td>2014</td>\n",
       "      <td>5</td>\n",
       "      <td>1598</td>\n",
       "      <td>77.0</td>\n",
       "      <td>NaN</td>\n",
       "      <td>4</td>\n",
       "      <td>man</td>\n",
       "      <td>4</td>\n",
       "      <td>5</td>\n",
       "      <td>diesel</td>\n",
       "    </tr>\n",
       "    <tr>\n",
       "      <th>2</th>\n",
       "      <td>11003</td>\n",
       "      <td>skoda</td>\n",
       "      <td>octavia</td>\n",
       "      <td>Coimbatore</td>\n",
       "      <td>30563.0</td>\n",
       "      <td>Second</td>\n",
       "      <td>2014</td>\n",
       "      <td>5</td>\n",
       "      <td>1968</td>\n",
       "      <td>110.0</td>\n",
       "      <td>NaN</td>\n",
       "      <td>5</td>\n",
       "      <td>man</td>\n",
       "      <td>5</td>\n",
       "      <td>5</td>\n",
       "      <td>diesel</td>\n",
       "    </tr>\n",
       "    <tr>\n",
       "      <th>3</th>\n",
       "      <td>11004</td>\n",
       "      <td>audi</td>\n",
       "      <td>q3</td>\n",
       "      <td>Delhi</td>\n",
       "      <td>8650.0</td>\n",
       "      <td>Fourth &amp; Above</td>\n",
       "      <td>2015</td>\n",
       "      <td>4</td>\n",
       "      <td>1968</td>\n",
       "      <td>110.0</td>\n",
       "      <td>NaN</td>\n",
       "      <td>8</td>\n",
       "      <td>auto</td>\n",
       "      <td>4</td>\n",
       "      <td>5</td>\n",
       "      <td>diesel</td>\n",
       "    </tr>\n",
       "    <tr>\n",
       "      <th>4</th>\n",
       "      <td>11005</td>\n",
       "      <td>audi</td>\n",
       "      <td>tt</td>\n",
       "      <td>Chennai</td>\n",
       "      <td>6400.0</td>\n",
       "      <td>Third</td>\n",
       "      <td>2015</td>\n",
       "      <td>4</td>\n",
       "      <td>1984</td>\n",
       "      <td>169.0</td>\n",
       "      <td>NaN</td>\n",
       "      <td>4</td>\n",
       "      <td>auto</td>\n",
       "      <td>2</td>\n",
       "      <td>None</td>\n",
       "      <td>petrol</td>\n",
       "    </tr>\n",
       "  </tbody>\n",
       "</table>\n",
       "</div>"
      ],
      "text/plain": [
       "      Id  Maker    model    Location  Distance       Owner Type  \\\n",
       "0  11001  skoda  octavia      Mumbai   150000.0           First   \n",
       "1  11002  skoda    rapid  Coimbatore    29376.0           Third   \n",
       "2  11003  skoda  octavia  Coimbatore    30563.0          Second   \n",
       "3  11004   audi       q3       Delhi     8650.0  Fourth & Above   \n",
       "4  11005   audi       tt     Chennai     6400.0           Third   \n",
       "\n",
       "   manufacture_year  Age of car  engine_displacement  engine_power body_type  \\\n",
       "0              2007          12                 1595          75.0       NaN   \n",
       "1              2014           5                 1598          77.0       NaN   \n",
       "2              2014           5                 1968         110.0       NaN   \n",
       "3              2015           4                 1968         110.0       NaN   \n",
       "4              2015           4                 1984         169.0       NaN   \n",
       "\n",
       "   Vroom Audit Rating transmission door_count seat_count fuel_type  \n",
       "0                   5          man          4          5    petrol  \n",
       "1                   4          man          4          5    diesel  \n",
       "2                   5          man          5          5    diesel  \n",
       "3                   8         auto          4          5    diesel  \n",
       "4                   4         auto          2       None    petrol  "
      ]
     },
     "execution_count": 9,
     "metadata": {},
     "output_type": "execute_result"
    }
   ],
   "source": [
    "test_df.head()"
   ]
  },
  {
   "cell_type": "code",
   "execution_count": 10,
   "id": "f882ad26",
   "metadata": {},
   "outputs": [
    {
     "data": {
      "text/plain": [
       "Index(['Id', 'Maker', 'model', 'Location', 'Distance ', 'Owner Type',\n",
       "       'manufacture_year', 'Age of car', 'engine_displacement', 'engine_power',\n",
       "       'body_type', 'Vroom Audit Rating', 'transmission', 'door_count',\n",
       "       'seat_count', 'fuel_type', 'Price'],\n",
       "      dtype='object')"
      ]
     },
     "execution_count": 10,
     "metadata": {},
     "output_type": "execute_result"
    }
   ],
   "source": [
    "df.columns"
   ]
  },
  {
   "cell_type": "code",
   "execution_count": 11,
   "id": "758e5c0e",
   "metadata": {
    "scrolled": true
   },
   "outputs": [
    {
     "data": {
      "text/plain": [
       "Index(['Id', 'Maker', 'model', 'Location', 'Distance ', 'Owner Type',\n",
       "       'manufacture_year', 'Age of car', 'engine_displacement', 'engine_power',\n",
       "       'body_type', 'Vroom Audit Rating', 'transmission', 'door_count',\n",
       "       'seat_count', 'fuel_type'],\n",
       "      dtype='object')"
      ]
     },
     "execution_count": 11,
     "metadata": {},
     "output_type": "execute_result"
    }
   ],
   "source": [
    "test_df.columns"
   ]
  },
  {
   "cell_type": "code",
   "execution_count": 12,
   "id": "8c80af5f",
   "metadata": {},
   "outputs": [
    {
     "data": {
      "text/plain": [
       "array(['skoda', 'fiat', 'bmw', 'nissan', 'audi', 'toyota', 'hyundai',\n",
       "       'maserati'], dtype=object)"
      ]
     },
     "execution_count": 12,
     "metadata": {},
     "output_type": "execute_result"
    }
   ],
   "source": [
    "df['Maker'].unique()"
   ]
  },
  {
   "cell_type": "code",
   "execution_count": 13,
   "id": "76416ea5",
   "metadata": {},
   "outputs": [],
   "source": [
    "\n",
    "df=df.replace('skoda','1').replace('fiat','2').replace('bmw','3').replace('nissan','4').replace('audi','5').replace('toyota','6').replace('hyundai','7').replace('maserati','8')\n",
    "df=df.replace('octavia','11').replace('panda','12').replace('x1','13').replace('juke','14').replace('x5','15').replace('superb','16').replace('qashqai','17').replace('coupe','18').replace('micra','19').replace('aygo','20').replace('yeti','21').replace('auris','22').replace('q3','23').replace('q5','24').replace('x3','25').replace('avensis','26').replace('i30','27').replace('q7','28').replace('tt','29').replace('citigo','30').replace('yaris','31').replace('roomster','32').replace('rapid','33')\n"
   ]
  },
  {
   "cell_type": "code",
   "execution_count": 14,
   "id": "8daef964",
   "metadata": {},
   "outputs": [],
   "source": [
    "df['Maker']=df['Maker'].astype(float)\n",
    "df['model']=df['model'].astype(float)"
   ]
  },
  {
   "cell_type": "code",
   "execution_count": 15,
   "id": "73d9c847",
   "metadata": {},
   "outputs": [
    {
     "data": {
      "text/html": [
       "<div>\n",
       "<style scoped>\n",
       "    .dataframe tbody tr th:only-of-type {\n",
       "        vertical-align: middle;\n",
       "    }\n",
       "\n",
       "    .dataframe tbody tr th {\n",
       "        vertical-align: top;\n",
       "    }\n",
       "\n",
       "    .dataframe thead th {\n",
       "        text-align: right;\n",
       "    }\n",
       "</style>\n",
       "<table border=\"1\" class=\"dataframe\">\n",
       "  <thead>\n",
       "    <tr style=\"text-align: right;\">\n",
       "      <th></th>\n",
       "      <th>Id</th>\n",
       "      <th>Maker</th>\n",
       "      <th>model</th>\n",
       "      <th>Location</th>\n",
       "      <th>Distance</th>\n",
       "      <th>Owner Type</th>\n",
       "      <th>manufacture_year</th>\n",
       "      <th>Age of car</th>\n",
       "      <th>engine_displacement</th>\n",
       "      <th>engine_power</th>\n",
       "      <th>body_type</th>\n",
       "      <th>Vroom Audit Rating</th>\n",
       "      <th>transmission</th>\n",
       "      <th>door_count</th>\n",
       "      <th>seat_count</th>\n",
       "      <th>fuel_type</th>\n",
       "      <th>Price</th>\n",
       "    </tr>\n",
       "  </thead>\n",
       "  <tbody>\n",
       "    <tr>\n",
       "      <th>0</th>\n",
       "      <td>25001</td>\n",
       "      <td>1.0</td>\n",
       "      <td>11.0</td>\n",
       "      <td>Ahmedabad</td>\n",
       "      <td>NaN</td>\n",
       "      <td>Second</td>\n",
       "      <td>1964</td>\n",
       "      <td>55</td>\n",
       "      <td>1964</td>\n",
       "      <td>147.0</td>\n",
       "      <td>compact</td>\n",
       "      <td>8</td>\n",
       "      <td>man</td>\n",
       "      <td>None</td>\n",
       "      <td>None</td>\n",
       "      <td>petrol</td>\n",
       "      <td>543764.25</td>\n",
       "    </tr>\n",
       "    <tr>\n",
       "      <th>1</th>\n",
       "      <td>25002</td>\n",
       "      <td>2.0</td>\n",
       "      <td>12.0</td>\n",
       "      <td>Ahmedabad</td>\n",
       "      <td>27750.0</td>\n",
       "      <td>Third</td>\n",
       "      <td>2012</td>\n",
       "      <td>7</td>\n",
       "      <td>1242</td>\n",
       "      <td>51.0</td>\n",
       "      <td>NaN</td>\n",
       "      <td>6</td>\n",
       "      <td>man</td>\n",
       "      <td>4</td>\n",
       "      <td>4</td>\n",
       "      <td>petrol</td>\n",
       "      <td>401819.25</td>\n",
       "    </tr>\n",
       "    <tr>\n",
       "      <th>2</th>\n",
       "      <td>25003</td>\n",
       "      <td>3.0</td>\n",
       "      <td>13.0</td>\n",
       "      <td>Hyderabad</td>\n",
       "      <td>46000.0</td>\n",
       "      <td>Third</td>\n",
       "      <td>2014</td>\n",
       "      <td>5</td>\n",
       "      <td>1995</td>\n",
       "      <td>105.0</td>\n",
       "      <td>NaN</td>\n",
       "      <td>7</td>\n",
       "      <td>auto</td>\n",
       "      <td>4</td>\n",
       "      <td>5</td>\n",
       "      <td>diesel</td>\n",
       "      <td>2392855.50</td>\n",
       "    </tr>\n",
       "    <tr>\n",
       "      <th>3</th>\n",
       "      <td>25004</td>\n",
       "      <td>4.0</td>\n",
       "      <td>14.0</td>\n",
       "      <td>Mumbai</td>\n",
       "      <td>43949.0</td>\n",
       "      <td>Third</td>\n",
       "      <td>2011</td>\n",
       "      <td>8</td>\n",
       "      <td>1618</td>\n",
       "      <td>140.0</td>\n",
       "      <td>NaN</td>\n",
       "      <td>7</td>\n",
       "      <td>man</td>\n",
       "      <td>4</td>\n",
       "      <td>5</td>\n",
       "      <td>petrol</td>\n",
       "      <td>958606.50</td>\n",
       "    </tr>\n",
       "    <tr>\n",
       "      <th>4</th>\n",
       "      <td>25005</td>\n",
       "      <td>3.0</td>\n",
       "      <td>15.0</td>\n",
       "      <td>Jaipur</td>\n",
       "      <td>59524.0</td>\n",
       "      <td>Fourth &amp; Above</td>\n",
       "      <td>2012</td>\n",
       "      <td>7</td>\n",
       "      <td>2993</td>\n",
       "      <td>180.0</td>\n",
       "      <td>NaN</td>\n",
       "      <td>7</td>\n",
       "      <td>auto</td>\n",
       "      <td>4</td>\n",
       "      <td>5</td>\n",
       "      <td>diesel</td>\n",
       "      <td>3085561.50</td>\n",
       "    </tr>\n",
       "  </tbody>\n",
       "</table>\n",
       "</div>"
      ],
      "text/plain": [
       "      Id  Maker  model   Location  Distance       Owner Type  \\\n",
       "0  25001    1.0   11.0  Ahmedabad        NaN          Second   \n",
       "1  25002    2.0   12.0  Ahmedabad    27750.0           Third   \n",
       "2  25003    3.0   13.0  Hyderabad    46000.0           Third   \n",
       "3  25004    4.0   14.0     Mumbai    43949.0           Third   \n",
       "4  25005    3.0   15.0     Jaipur    59524.0  Fourth & Above   \n",
       "\n",
       "   manufacture_year  Age of car  engine_displacement  engine_power body_type  \\\n",
       "0              1964          55                 1964         147.0   compact   \n",
       "1              2012           7                 1242          51.0       NaN   \n",
       "2              2014           5                 1995         105.0       NaN   \n",
       "3              2011           8                 1618         140.0       NaN   \n",
       "4              2012           7                 2993         180.0       NaN   \n",
       "\n",
       "   Vroom Audit Rating transmission door_count seat_count fuel_type       Price  \n",
       "0                   8          man       None       None    petrol   543764.25  \n",
       "1                   6          man          4          4    petrol   401819.25  \n",
       "2                   7         auto          4          5    diesel  2392855.50  \n",
       "3                   7          man          4          5    petrol   958606.50  \n",
       "4                   7         auto          4          5    diesel  3085561.50  "
      ]
     },
     "execution_count": 15,
     "metadata": {},
     "output_type": "execute_result"
    }
   ],
   "source": [
    "df.head()"
   ]
  },
  {
   "cell_type": "code",
   "execution_count": 16,
   "id": "54877135",
   "metadata": {},
   "outputs": [
    {
     "data": {
      "text/plain": [
       "Id                         0\n",
       "Maker                      0\n",
       "model                      0\n",
       "Location                   0\n",
       "Distance                1211\n",
       "Owner Type                 0\n",
       "manufacture_year           0\n",
       "Age of car                 0\n",
       "engine_displacement        0\n",
       "engine_power            1439\n",
       "body_type              49379\n",
       "Vroom Audit Rating         0\n",
       "transmission               0\n",
       "door_count                 0\n",
       "seat_count                 0\n",
       "fuel_type                  0\n",
       "Price                      0\n",
       "dtype: int64"
      ]
     },
     "execution_count": 16,
     "metadata": {},
     "output_type": "execute_result"
    }
   ],
   "source": [
    "df.isnull().sum()"
   ]
  },
  {
   "cell_type": "code",
   "execution_count": 17,
   "id": "388a8288",
   "metadata": {},
   "outputs": [
    {
     "data": {
      "text/plain": [
       "array(['Ahmedabad', 'Hyderabad', 'Mumbai', 'Jaipur', 'Chennai',\n",
       "       'Coimbatore', 'Kochi', 'Bangalore', 'Pune', 'Kolkata', 'Delhi'],\n",
       "      dtype=object)"
      ]
     },
     "execution_count": 17,
     "metadata": {},
     "output_type": "execute_result"
    }
   ],
   "source": [
    "df['Location'].unique()"
   ]
  },
  {
   "cell_type": "code",
   "execution_count": 18,
   "id": "94c23ba6",
   "metadata": {},
   "outputs": [],
   "source": [
    "df=df.replace('Ahmedabad','90').replace('Hyderabad','91').replace('Mumbai','92').replace('Jaipur','93').replace('Chennai','94').replace('Coimbatore','95').replace('Kochi','96').replace('Bangalore','97').replace('Pune','98').replace('Kolkata','99').replace('Delhi','00')"
   ]
  },
  {
   "cell_type": "code",
   "execution_count": 19,
   "id": "e6855645",
   "metadata": {},
   "outputs": [
    {
     "data": {
      "text/plain": [
       "array(['90', '91', '92', '93', '94', '95', '96', '97', '98', '99', '00'],\n",
       "      dtype=object)"
      ]
     },
     "execution_count": 19,
     "metadata": {},
     "output_type": "execute_result"
    }
   ],
   "source": [
    "df['Location'].unique()"
   ]
  },
  {
   "cell_type": "code",
   "execution_count": 20,
   "id": "ff18e947",
   "metadata": {},
   "outputs": [],
   "source": [
    "df['Location']=df['Location'].astype(float)"
   ]
  },
  {
   "cell_type": "code",
   "execution_count": 21,
   "id": "3211a7e3",
   "metadata": {},
   "outputs": [
    {
     "data": {
      "text/plain": [
       "array(['Second', 'Third', 'Fourth & Above', 'First'], dtype=object)"
      ]
     },
     "execution_count": 21,
     "metadata": {},
     "output_type": "execute_result"
    }
   ],
   "source": [
    "df['Owner Type'].unique()"
   ]
  },
  {
   "cell_type": "code",
   "execution_count": 22,
   "id": "419fc211",
   "metadata": {},
   "outputs": [],
   "source": [
    "df=df.replace('Second','222').replace('Third','333').replace('Fourth & Above','444').replace('First','111')"
   ]
  },
  {
   "cell_type": "code",
   "execution_count": 23,
   "id": "d6aa4fad",
   "metadata": {},
   "outputs": [
    {
     "data": {
      "text/plain": [
       "array(['222', '333', '444', '111'], dtype=object)"
      ]
     },
     "execution_count": 23,
     "metadata": {},
     "output_type": "execute_result"
    }
   ],
   "source": [
    "df['Owner Type'].unique()"
   ]
  },
  {
   "cell_type": "code",
   "execution_count": 24,
   "id": "96aa714e",
   "metadata": {},
   "outputs": [],
   "source": [
    "df['Owner Type']=df['Owner Type'].astype(float)"
   ]
  },
  {
   "cell_type": "code",
   "execution_count": 25,
   "id": "381c0905",
   "metadata": {},
   "outputs": [
    {
     "data": {
      "text/html": [
       "<div>\n",
       "<style scoped>\n",
       "    .dataframe tbody tr th:only-of-type {\n",
       "        vertical-align: middle;\n",
       "    }\n",
       "\n",
       "    .dataframe tbody tr th {\n",
       "        vertical-align: top;\n",
       "    }\n",
       "\n",
       "    .dataframe thead th {\n",
       "        text-align: right;\n",
       "    }\n",
       "</style>\n",
       "<table border=\"1\" class=\"dataframe\">\n",
       "  <thead>\n",
       "    <tr style=\"text-align: right;\">\n",
       "      <th></th>\n",
       "      <th>Id</th>\n",
       "      <th>Maker</th>\n",
       "      <th>model</th>\n",
       "      <th>Location</th>\n",
       "      <th>Distance</th>\n",
       "      <th>Owner Type</th>\n",
       "      <th>manufacture_year</th>\n",
       "      <th>Age of car</th>\n",
       "      <th>engine_displacement</th>\n",
       "      <th>engine_power</th>\n",
       "      <th>body_type</th>\n",
       "      <th>Vroom Audit Rating</th>\n",
       "      <th>transmission</th>\n",
       "      <th>door_count</th>\n",
       "      <th>seat_count</th>\n",
       "      <th>fuel_type</th>\n",
       "      <th>Price</th>\n",
       "    </tr>\n",
       "  </thead>\n",
       "  <tbody>\n",
       "    <tr>\n",
       "      <th>0</th>\n",
       "      <td>25001</td>\n",
       "      <td>1.0</td>\n",
       "      <td>11.0</td>\n",
       "      <td>90.0</td>\n",
       "      <td>NaN</td>\n",
       "      <td>222.0</td>\n",
       "      <td>1964</td>\n",
       "      <td>55</td>\n",
       "      <td>1964</td>\n",
       "      <td>147.0</td>\n",
       "      <td>compact</td>\n",
       "      <td>8</td>\n",
       "      <td>man</td>\n",
       "      <td>None</td>\n",
       "      <td>None</td>\n",
       "      <td>petrol</td>\n",
       "      <td>543764.25</td>\n",
       "    </tr>\n",
       "    <tr>\n",
       "      <th>1</th>\n",
       "      <td>25002</td>\n",
       "      <td>2.0</td>\n",
       "      <td>12.0</td>\n",
       "      <td>90.0</td>\n",
       "      <td>27750.0</td>\n",
       "      <td>333.0</td>\n",
       "      <td>2012</td>\n",
       "      <td>7</td>\n",
       "      <td>1242</td>\n",
       "      <td>51.0</td>\n",
       "      <td>NaN</td>\n",
       "      <td>6</td>\n",
       "      <td>man</td>\n",
       "      <td>4</td>\n",
       "      <td>4</td>\n",
       "      <td>petrol</td>\n",
       "      <td>401819.25</td>\n",
       "    </tr>\n",
       "    <tr>\n",
       "      <th>2</th>\n",
       "      <td>25003</td>\n",
       "      <td>3.0</td>\n",
       "      <td>13.0</td>\n",
       "      <td>91.0</td>\n",
       "      <td>46000.0</td>\n",
       "      <td>333.0</td>\n",
       "      <td>2014</td>\n",
       "      <td>5</td>\n",
       "      <td>1995</td>\n",
       "      <td>105.0</td>\n",
       "      <td>NaN</td>\n",
       "      <td>7</td>\n",
       "      <td>auto</td>\n",
       "      <td>4</td>\n",
       "      <td>5</td>\n",
       "      <td>diesel</td>\n",
       "      <td>2392855.50</td>\n",
       "    </tr>\n",
       "    <tr>\n",
       "      <th>3</th>\n",
       "      <td>25004</td>\n",
       "      <td>4.0</td>\n",
       "      <td>14.0</td>\n",
       "      <td>92.0</td>\n",
       "      <td>43949.0</td>\n",
       "      <td>333.0</td>\n",
       "      <td>2011</td>\n",
       "      <td>8</td>\n",
       "      <td>1618</td>\n",
       "      <td>140.0</td>\n",
       "      <td>NaN</td>\n",
       "      <td>7</td>\n",
       "      <td>man</td>\n",
       "      <td>4</td>\n",
       "      <td>5</td>\n",
       "      <td>petrol</td>\n",
       "      <td>958606.50</td>\n",
       "    </tr>\n",
       "    <tr>\n",
       "      <th>4</th>\n",
       "      <td>25005</td>\n",
       "      <td>3.0</td>\n",
       "      <td>15.0</td>\n",
       "      <td>93.0</td>\n",
       "      <td>59524.0</td>\n",
       "      <td>444.0</td>\n",
       "      <td>2012</td>\n",
       "      <td>7</td>\n",
       "      <td>2993</td>\n",
       "      <td>180.0</td>\n",
       "      <td>NaN</td>\n",
       "      <td>7</td>\n",
       "      <td>auto</td>\n",
       "      <td>4</td>\n",
       "      <td>5</td>\n",
       "      <td>diesel</td>\n",
       "      <td>3085561.50</td>\n",
       "    </tr>\n",
       "  </tbody>\n",
       "</table>\n",
       "</div>"
      ],
      "text/plain": [
       "      Id  Maker  model  Location  Distance   Owner Type  manufacture_year  \\\n",
       "0  25001    1.0   11.0      90.0        NaN       222.0              1964   \n",
       "1  25002    2.0   12.0      90.0    27750.0       333.0              2012   \n",
       "2  25003    3.0   13.0      91.0    46000.0       333.0              2014   \n",
       "3  25004    4.0   14.0      92.0    43949.0       333.0              2011   \n",
       "4  25005    3.0   15.0      93.0    59524.0       444.0              2012   \n",
       "\n",
       "   Age of car  engine_displacement  engine_power body_type  \\\n",
       "0          55                 1964         147.0   compact   \n",
       "1           7                 1242          51.0       NaN   \n",
       "2           5                 1995         105.0       NaN   \n",
       "3           8                 1618         140.0       NaN   \n",
       "4           7                 2993         180.0       NaN   \n",
       "\n",
       "   Vroom Audit Rating transmission door_count seat_count fuel_type       Price  \n",
       "0                   8          man       None       None    petrol   543764.25  \n",
       "1                   6          man          4          4    petrol   401819.25  \n",
       "2                   7         auto          4          5    diesel  2392855.50  \n",
       "3                   7          man          4          5    petrol   958606.50  \n",
       "4                   7         auto          4          5    diesel  3085561.50  "
      ]
     },
     "execution_count": 25,
     "metadata": {},
     "output_type": "execute_result"
    }
   ],
   "source": [
    "df.head()"
   ]
  },
  {
   "cell_type": "code",
   "execution_count": 26,
   "id": "3a63330f",
   "metadata": {},
   "outputs": [
    {
     "data": {
      "text/plain": [
       "array(['compact', nan, 'van'], dtype=object)"
      ]
     },
     "execution_count": 26,
     "metadata": {},
     "output_type": "execute_result"
    }
   ],
   "source": [
    "df['body_type'].unique()"
   ]
  },
  {
   "cell_type": "code",
   "execution_count": 27,
   "id": "f3225f9c",
   "metadata": {},
   "outputs": [],
   "source": [
    "df= df.replace('compact','55').replace('van','66')"
   ]
  },
  {
   "cell_type": "code",
   "execution_count": 28,
   "id": "a2217920",
   "metadata": {},
   "outputs": [
    {
     "data": {
      "text/plain": [
       "array(['55', nan, '66'], dtype=object)"
      ]
     },
     "execution_count": 28,
     "metadata": {},
     "output_type": "execute_result"
    }
   ],
   "source": [
    "df['body_type'].unique()"
   ]
  },
  {
   "cell_type": "code",
   "execution_count": 29,
   "id": "7f4a4012",
   "metadata": {},
   "outputs": [
    {
     "data": {
      "text/plain": [
       "9"
      ]
     },
     "execution_count": 29,
     "metadata": {},
     "output_type": "execute_result"
    }
   ],
   "source": [
    "sum(df['body_type']=='66')"
   ]
  },
  {
   "cell_type": "code",
   "execution_count": 30,
   "id": "3bb9f0e5",
   "metadata": {},
   "outputs": [],
   "source": [
    "df['body_type'] = df['body_type'].replace(np.nan, 66)"
   ]
  },
  {
   "cell_type": "code",
   "execution_count": 31,
   "id": "2642f70d",
   "metadata": {},
   "outputs": [
    {
     "data": {
      "text/plain": [
       "array(['55', 66, '66'], dtype=object)"
      ]
     },
     "execution_count": 31,
     "metadata": {},
     "output_type": "execute_result"
    }
   ],
   "source": [
    "df['body_type'].unique()"
   ]
  },
  {
   "cell_type": "code",
   "execution_count": 32,
   "id": "f57112b4",
   "metadata": {},
   "outputs": [],
   "source": [
    "df['body_type']=df['body_type'].astype(float)"
   ]
  },
  {
   "cell_type": "code",
   "execution_count": 33,
   "id": "91886326",
   "metadata": {},
   "outputs": [
    {
     "data": {
      "text/plain": [
       "array([55,  7,  5,  8,  4, 10,  9, 20,  6, 12, 15, 17, 13, 11, 14, 19, 18,\n",
       "       16, 21, 39, 29, 24,  3, 23, 22, 25, 51, 26, 27, 28, 69, 48, 31, 30,\n",
       "       35, 46, 36, 34, 53, 37, 85, 60, 63, 57, 67, 64, 50, 59, 33, 45, 32,\n",
       "       47, 38, 43, 56])"
      ]
     },
     "execution_count": 33,
     "metadata": {},
     "output_type": "execute_result"
    }
   ],
   "source": [
    "df['Age of car'].unique()"
   ]
  },
  {
   "cell_type": "code",
   "execution_count": 34,
   "id": "c09c3173",
   "metadata": {},
   "outputs": [
    {
     "data": {
      "text/plain": [
       "array(['man', 'auto'], dtype=object)"
      ]
     },
     "execution_count": 34,
     "metadata": {},
     "output_type": "execute_result"
    }
   ],
   "source": [
    "df['transmission'].unique()"
   ]
  },
  {
   "cell_type": "code",
   "execution_count": 35,
   "id": "ac64eecc",
   "metadata": {},
   "outputs": [],
   "source": [
    "df= df.replace('man','88').replace('auto','77')"
   ]
  },
  {
   "cell_type": "code",
   "execution_count": 36,
   "id": "cbda72dd",
   "metadata": {},
   "outputs": [
    {
     "data": {
      "text/plain": [
       "array(['88', '77'], dtype=object)"
      ]
     },
     "execution_count": 36,
     "metadata": {},
     "output_type": "execute_result"
    }
   ],
   "source": [
    "df['transmission'].unique()"
   ]
  },
  {
   "cell_type": "code",
   "execution_count": 37,
   "id": "12da3b20",
   "metadata": {},
   "outputs": [],
   "source": [
    "df['transmission']=df['transmission'].astype(float)"
   ]
  },
  {
   "cell_type": "code",
   "execution_count": 38,
   "id": "62023f10",
   "metadata": {},
   "outputs": [
    {
     "data": {
      "text/plain": [
       "array(['None', '4', '5', '2', '3', '1', '6'], dtype=object)"
      ]
     },
     "execution_count": 38,
     "metadata": {},
     "output_type": "execute_result"
    }
   ],
   "source": [
    "df['door_count'].unique()"
   ]
  },
  {
   "cell_type": "code",
   "execution_count": 39,
   "id": "9564fa51",
   "metadata": {},
   "outputs": [],
   "source": [
    "df= df.replace('None','4')"
   ]
  },
  {
   "cell_type": "code",
   "execution_count": 40,
   "id": "11050847",
   "metadata": {},
   "outputs": [
    {
     "data": {
      "text/plain": [
       "array(['4', '5', '2', '3', '1', '6'], dtype=object)"
      ]
     },
     "execution_count": 40,
     "metadata": {},
     "output_type": "execute_result"
    }
   ],
   "source": [
    "df['door_count'].unique()"
   ]
  },
  {
   "cell_type": "code",
   "execution_count": 41,
   "id": "07b6ea90",
   "metadata": {},
   "outputs": [],
   "source": [
    "df['door_count']=df['door_count'].astype(float)"
   ]
  },
  {
   "cell_type": "code",
   "execution_count": 42,
   "id": "1cd2f8f5",
   "metadata": {},
   "outputs": [
    {
     "data": {
      "text/plain": [
       "array(['4', '5', '2', '3', '7', '6', '1', '9', '8'], dtype=object)"
      ]
     },
     "execution_count": 42,
     "metadata": {},
     "output_type": "execute_result"
    }
   ],
   "source": [
    "df['seat_count'].unique()"
   ]
  },
  {
   "cell_type": "code",
   "execution_count": 43,
   "id": "34135772",
   "metadata": {},
   "outputs": [],
   "source": [
    "df['seat_count']=df['seat_count'].astype(float)"
   ]
  },
  {
   "cell_type": "code",
   "execution_count": 44,
   "id": "a8c03a72",
   "metadata": {},
   "outputs": [
    {
     "data": {
      "text/plain": [
       "array(['petrol', 'diesel'], dtype=object)"
      ]
     },
     "execution_count": 44,
     "metadata": {},
     "output_type": "execute_result"
    }
   ],
   "source": [
    "df['fuel_type'].unique()"
   ]
  },
  {
   "cell_type": "code",
   "execution_count": 45,
   "id": "ba9b4d34",
   "metadata": {},
   "outputs": [],
   "source": [
    "df= df.replace('petrol','0000').replace('diesel','1111')"
   ]
  },
  {
   "cell_type": "code",
   "execution_count": 46,
   "id": "bee4644f",
   "metadata": {},
   "outputs": [
    {
     "data": {
      "text/plain": [
       "array(['0000', '1111'], dtype=object)"
      ]
     },
     "execution_count": 46,
     "metadata": {},
     "output_type": "execute_result"
    }
   ],
   "source": [
    "df['fuel_type'].unique()"
   ]
  },
  {
   "cell_type": "code",
   "execution_count": 47,
   "id": "c9005980",
   "metadata": {},
   "outputs": [],
   "source": [
    "df['fuel_type']=df['fuel_type'].astype(float)"
   ]
  },
  {
   "cell_type": "code",
   "execution_count": 60,
   "id": "205a2d51",
   "metadata": {},
   "outputs": [],
   "source": [
    "df['engine_power'] = df['engine_power'].replace(np.nan,125.000000 )\n",
    "df['Distance '] = df['Distance '].replace(np.nan, 9.454626e+04)\n"
   ]
  },
  {
   "cell_type": "code",
   "execution_count": 61,
   "id": "65f9e61e",
   "metadata": {},
   "outputs": [],
   "source": [
    "df['engine_power']=df['engine_power'].astype(float)\n",
    "df['Distance ']=df['Distance '].astype(float)"
   ]
  },
  {
   "cell_type": "code",
   "execution_count": 50,
   "id": "9d5070b3",
   "metadata": {},
   "outputs": [
    {
     "name": "stdout",
     "output_type": "stream",
     "text": [
      "<class 'pandas.core.frame.DataFrame'>\n",
      "RangeIndex: 53515 entries, 0 to 53514\n",
      "Data columns (total 17 columns):\n",
      " #   Column               Non-Null Count  Dtype  \n",
      "---  ------               --------------  -----  \n",
      " 0   Id                   53515 non-null  int64  \n",
      " 1   Maker                53515 non-null  float64\n",
      " 2   model                53515 non-null  float64\n",
      " 3   Location             53515 non-null  float64\n",
      " 4   Distance             53515 non-null  float64\n",
      " 5   Owner Type           53515 non-null  float64\n",
      " 6   manufacture_year     53515 non-null  int64  \n",
      " 7   Age of car           53515 non-null  int64  \n",
      " 8   engine_displacement  53515 non-null  int64  \n",
      " 9   engine_power         53515 non-null  float64\n",
      " 10  body_type            53515 non-null  float64\n",
      " 11  Vroom Audit Rating   53515 non-null  int64  \n",
      " 12  transmission         53515 non-null  float64\n",
      " 13  door_count           53515 non-null  float64\n",
      " 14  seat_count           53515 non-null  float64\n",
      " 15  fuel_type            53515 non-null  float64\n",
      " 16  Price                53515 non-null  float64\n",
      "dtypes: float64(12), int64(5)\n",
      "memory usage: 6.9 MB\n"
     ]
    }
   ],
   "source": [
    "df.info()"
   ]
  },
  {
   "cell_type": "code",
   "execution_count": 51,
   "id": "f97549e7",
   "metadata": {},
   "outputs": [
    {
     "data": {
      "text/plain": [
       "((53515, 16), (53515,))"
      ]
     },
     "execution_count": 51,
     "metadata": {},
     "output_type": "execute_result"
    }
   ],
   "source": [
    "df_feature = df.drop(['Price'], axis=1)\n",
    "df_target = df.Price\n",
    "df_feature.shape, df_target.shape"
   ]
  },
  {
   "cell_type": "code",
   "execution_count": 62,
   "id": "c1db8de9",
   "metadata": {},
   "outputs": [
    {
     "data": {
      "text/html": [
       "<div>\n",
       "<style scoped>\n",
       "    .dataframe tbody tr th:only-of-type {\n",
       "        vertical-align: middle;\n",
       "    }\n",
       "\n",
       "    .dataframe tbody tr th {\n",
       "        vertical-align: top;\n",
       "    }\n",
       "\n",
       "    .dataframe thead th {\n",
       "        text-align: right;\n",
       "    }\n",
       "</style>\n",
       "<table border=\"1\" class=\"dataframe\">\n",
       "  <thead>\n",
       "    <tr style=\"text-align: right;\">\n",
       "      <th></th>\n",
       "      <th>Id</th>\n",
       "      <th>Maker</th>\n",
       "      <th>model</th>\n",
       "      <th>Location</th>\n",
       "      <th>Distance</th>\n",
       "      <th>Owner Type</th>\n",
       "      <th>manufacture_year</th>\n",
       "      <th>Age of car</th>\n",
       "      <th>engine_displacement</th>\n",
       "      <th>engine_power</th>\n",
       "      <th>body_type</th>\n",
       "      <th>Vroom Audit Rating</th>\n",
       "      <th>transmission</th>\n",
       "      <th>door_count</th>\n",
       "      <th>seat_count</th>\n",
       "      <th>fuel_type</th>\n",
       "      <th>Price</th>\n",
       "    </tr>\n",
       "  </thead>\n",
       "  <tbody>\n",
       "    <tr>\n",
       "      <th>Id</th>\n",
       "      <td>1.000000</td>\n",
       "      <td>0.001951</td>\n",
       "      <td>0.005443</td>\n",
       "      <td>0.006571</td>\n",
       "      <td>-0.000279</td>\n",
       "      <td>-0.005769</td>\n",
       "      <td>0.001935</td>\n",
       "      <td>-0.001935</td>\n",
       "      <td>0.003698</td>\n",
       "      <td>0.002243</td>\n",
       "      <td>0.006882</td>\n",
       "      <td>0.005602</td>\n",
       "      <td>-0.005550</td>\n",
       "      <td>-0.005810</td>\n",
       "      <td>0.002489</td>\n",
       "      <td>-0.001921</td>\n",
       "      <td>0.003195</td>\n",
       "    </tr>\n",
       "    <tr>\n",
       "      <th>Maker</th>\n",
       "      <td>0.001951</td>\n",
       "      <td>1.000000</td>\n",
       "      <td>0.522879</td>\n",
       "      <td>-0.000067</td>\n",
       "      <td>-0.096183</td>\n",
       "      <td>0.001166</td>\n",
       "      <td>0.098156</td>\n",
       "      <td>-0.098156</td>\n",
       "      <td>-0.029522</td>\n",
       "      <td>0.103468</td>\n",
       "      <td>0.214407</td>\n",
       "      <td>-0.004459</td>\n",
       "      <td>-0.077202</td>\n",
       "      <td>-0.327378</td>\n",
       "      <td>0.012481</td>\n",
       "      <td>-0.134853</td>\n",
       "      <td>0.167444</td>\n",
       "    </tr>\n",
       "    <tr>\n",
       "      <th>model</th>\n",
       "      <td>0.005443</td>\n",
       "      <td>0.522879</td>\n",
       "      <td>1.000000</td>\n",
       "      <td>-0.004809</td>\n",
       "      <td>-0.100732</td>\n",
       "      <td>0.008655</td>\n",
       "      <td>0.184303</td>\n",
       "      <td>-0.184303</td>\n",
       "      <td>-0.066601</td>\n",
       "      <td>-0.026463</td>\n",
       "      <td>0.183176</td>\n",
       "      <td>0.002909</td>\n",
       "      <td>-0.025839</td>\n",
       "      <td>-0.198986</td>\n",
       "      <td>0.016781</td>\n",
       "      <td>-0.177887</td>\n",
       "      <td>0.116445</td>\n",
       "    </tr>\n",
       "    <tr>\n",
       "      <th>Location</th>\n",
       "      <td>0.006571</td>\n",
       "      <td>-0.000067</td>\n",
       "      <td>-0.004809</td>\n",
       "      <td>1.000000</td>\n",
       "      <td>0.005306</td>\n",
       "      <td>-0.002221</td>\n",
       "      <td>-0.006115</td>\n",
       "      <td>0.006115</td>\n",
       "      <td>0.005436</td>\n",
       "      <td>-0.003632</td>\n",
       "      <td>0.002563</td>\n",
       "      <td>-0.000397</td>\n",
       "      <td>0.000991</td>\n",
       "      <td>0.000589</td>\n",
       "      <td>0.000608</td>\n",
       "      <td>-0.005124</td>\n",
       "      <td>-0.002946</td>\n",
       "    </tr>\n",
       "    <tr>\n",
       "      <th>Distance</th>\n",
       "      <td>-0.000279</td>\n",
       "      <td>-0.096183</td>\n",
       "      <td>-0.100732</td>\n",
       "      <td>0.005306</td>\n",
       "      <td>1.000000</td>\n",
       "      <td>-0.006642</td>\n",
       "      <td>-0.220387</td>\n",
       "      <td>0.220387</td>\n",
       "      <td>0.094056</td>\n",
       "      <td>0.013835</td>\n",
       "      <td>-0.203442</td>\n",
       "      <td>-0.006229</td>\n",
       "      <td>0.017285</td>\n",
       "      <td>0.028727</td>\n",
       "      <td>-0.050253</td>\n",
       "      <td>0.013961</td>\n",
       "      <td>-0.157168</td>\n",
       "    </tr>\n",
       "    <tr>\n",
       "      <th>Owner Type</th>\n",
       "      <td>-0.005769</td>\n",
       "      <td>0.001166</td>\n",
       "      <td>0.008655</td>\n",
       "      <td>-0.002221</td>\n",
       "      <td>-0.006642</td>\n",
       "      <td>1.000000</td>\n",
       "      <td>0.005409</td>\n",
       "      <td>-0.005409</td>\n",
       "      <td>-0.004116</td>\n",
       "      <td>-0.002925</td>\n",
       "      <td>0.003512</td>\n",
       "      <td>-0.003931</td>\n",
       "      <td>0.002788</td>\n",
       "      <td>0.001360</td>\n",
       "      <td>0.002068</td>\n",
       "      <td>0.000428</td>\n",
       "      <td>-0.003600</td>\n",
       "    </tr>\n",
       "    <tr>\n",
       "      <th>manufacture_year</th>\n",
       "      <td>0.001935</td>\n",
       "      <td>0.098156</td>\n",
       "      <td>0.184303</td>\n",
       "      <td>-0.006115</td>\n",
       "      <td>-0.220387</td>\n",
       "      <td>0.005409</td>\n",
       "      <td>1.000000</td>\n",
       "      <td>-1.000000</td>\n",
       "      <td>-0.090401</td>\n",
       "      <td>0.050724</td>\n",
       "      <td>0.252268</td>\n",
       "      <td>0.003985</td>\n",
       "      <td>-0.127930</td>\n",
       "      <td>0.118545</td>\n",
       "      <td>0.100646</td>\n",
       "      <td>0.112386</td>\n",
       "      <td>0.506707</td>\n",
       "    </tr>\n",
       "    <tr>\n",
       "      <th>Age of car</th>\n",
       "      <td>-0.001935</td>\n",
       "      <td>-0.098156</td>\n",
       "      <td>-0.184303</td>\n",
       "      <td>0.006115</td>\n",
       "      <td>0.220387</td>\n",
       "      <td>-0.005409</td>\n",
       "      <td>-1.000000</td>\n",
       "      <td>1.000000</td>\n",
       "      <td>0.090401</td>\n",
       "      <td>-0.050724</td>\n",
       "      <td>-0.252268</td>\n",
       "      <td>-0.003985</td>\n",
       "      <td>0.127930</td>\n",
       "      <td>-0.118545</td>\n",
       "      <td>-0.100646</td>\n",
       "      <td>-0.112386</td>\n",
       "      <td>-0.506707</td>\n",
       "    </tr>\n",
       "    <tr>\n",
       "      <th>engine_displacement</th>\n",
       "      <td>0.003698</td>\n",
       "      <td>-0.029522</td>\n",
       "      <td>-0.066601</td>\n",
       "      <td>0.005436</td>\n",
       "      <td>0.094056</td>\n",
       "      <td>-0.004116</td>\n",
       "      <td>-0.090401</td>\n",
       "      <td>0.090401</td>\n",
       "      <td>1.000000</td>\n",
       "      <td>0.312480</td>\n",
       "      <td>-0.259181</td>\n",
       "      <td>-0.005828</td>\n",
       "      <td>-0.207715</td>\n",
       "      <td>0.018502</td>\n",
       "      <td>-0.030327</td>\n",
       "      <td>0.125746</td>\n",
       "      <td>0.162072</td>\n",
       "    </tr>\n",
       "    <tr>\n",
       "      <th>engine_power</th>\n",
       "      <td>0.002243</td>\n",
       "      <td>0.103468</td>\n",
       "      <td>-0.026463</td>\n",
       "      <td>-0.003632</td>\n",
       "      <td>0.013835</td>\n",
       "      <td>-0.002925</td>\n",
       "      <td>0.050724</td>\n",
       "      <td>-0.050724</td>\n",
       "      <td>0.312480</td>\n",
       "      <td>1.000000</td>\n",
       "      <td>0.050893</td>\n",
       "      <td>-0.001199</td>\n",
       "      <td>-0.501451</td>\n",
       "      <td>-0.078433</td>\n",
       "      <td>0.079161</td>\n",
       "      <td>0.287383</td>\n",
       "      <td>0.615084</td>\n",
       "    </tr>\n",
       "    <tr>\n",
       "      <th>body_type</th>\n",
       "      <td>0.006882</td>\n",
       "      <td>0.214407</td>\n",
       "      <td>0.183176</td>\n",
       "      <td>0.002563</td>\n",
       "      <td>-0.203442</td>\n",
       "      <td>0.003512</td>\n",
       "      <td>0.252268</td>\n",
       "      <td>-0.252268</td>\n",
       "      <td>-0.259181</td>\n",
       "      <td>0.050893</td>\n",
       "      <td>1.000000</td>\n",
       "      <td>0.007373</td>\n",
       "      <td>-0.002888</td>\n",
       "      <td>-0.009763</td>\n",
       "      <td>0.352785</td>\n",
       "      <td>0.135149</td>\n",
       "      <td>0.204589</td>\n",
       "    </tr>\n",
       "    <tr>\n",
       "      <th>Vroom Audit Rating</th>\n",
       "      <td>0.005602</td>\n",
       "      <td>-0.004459</td>\n",
       "      <td>0.002909</td>\n",
       "      <td>-0.000397</td>\n",
       "      <td>-0.006229</td>\n",
       "      <td>-0.003931</td>\n",
       "      <td>0.003985</td>\n",
       "      <td>-0.003985</td>\n",
       "      <td>-0.005828</td>\n",
       "      <td>-0.001199</td>\n",
       "      <td>0.007373</td>\n",
       "      <td>1.000000</td>\n",
       "      <td>0.002945</td>\n",
       "      <td>-0.005009</td>\n",
       "      <td>0.002391</td>\n",
       "      <td>0.002789</td>\n",
       "      <td>0.005109</td>\n",
       "    </tr>\n",
       "    <tr>\n",
       "      <th>transmission</th>\n",
       "      <td>-0.005550</td>\n",
       "      <td>-0.077202</td>\n",
       "      <td>-0.025839</td>\n",
       "      <td>0.000991</td>\n",
       "      <td>0.017285</td>\n",
       "      <td>0.002788</td>\n",
       "      <td>-0.127930</td>\n",
       "      <td>0.127930</td>\n",
       "      <td>-0.207715</td>\n",
       "      <td>-0.501451</td>\n",
       "      <td>-0.002888</td>\n",
       "      <td>0.002945</td>\n",
       "      <td>1.000000</td>\n",
       "      <td>0.021168</td>\n",
       "      <td>-0.094738</td>\n",
       "      <td>-0.194639</td>\n",
       "      <td>-0.499240</td>\n",
       "    </tr>\n",
       "    <tr>\n",
       "      <th>door_count</th>\n",
       "      <td>-0.005810</td>\n",
       "      <td>-0.327378</td>\n",
       "      <td>-0.198986</td>\n",
       "      <td>0.000589</td>\n",
       "      <td>0.028727</td>\n",
       "      <td>0.001360</td>\n",
       "      <td>0.118545</td>\n",
       "      <td>-0.118545</td>\n",
       "      <td>0.018502</td>\n",
       "      <td>-0.078433</td>\n",
       "      <td>-0.009763</td>\n",
       "      <td>-0.005009</td>\n",
       "      <td>0.021168</td>\n",
       "      <td>1.000000</td>\n",
       "      <td>0.354472</td>\n",
       "      <td>0.245546</td>\n",
       "      <td>-0.050817</td>\n",
       "    </tr>\n",
       "    <tr>\n",
       "      <th>seat_count</th>\n",
       "      <td>0.002489</td>\n",
       "      <td>0.012481</td>\n",
       "      <td>0.016781</td>\n",
       "      <td>0.000608</td>\n",
       "      <td>-0.050253</td>\n",
       "      <td>0.002068</td>\n",
       "      <td>0.100646</td>\n",
       "      <td>-0.100646</td>\n",
       "      <td>-0.030327</td>\n",
       "      <td>0.079161</td>\n",
       "      <td>0.352785</td>\n",
       "      <td>0.002391</td>\n",
       "      <td>-0.094738</td>\n",
       "      <td>0.354472</td>\n",
       "      <td>1.000000</td>\n",
       "      <td>0.249024</td>\n",
       "      <td>0.142732</td>\n",
       "    </tr>\n",
       "    <tr>\n",
       "      <th>fuel_type</th>\n",
       "      <td>-0.001921</td>\n",
       "      <td>-0.134853</td>\n",
       "      <td>-0.177887</td>\n",
       "      <td>-0.005124</td>\n",
       "      <td>0.013961</td>\n",
       "      <td>0.000428</td>\n",
       "      <td>0.112386</td>\n",
       "      <td>-0.112386</td>\n",
       "      <td>0.125746</td>\n",
       "      <td>0.287383</td>\n",
       "      <td>0.135149</td>\n",
       "      <td>0.002789</td>\n",
       "      <td>-0.194639</td>\n",
       "      <td>0.245546</td>\n",
       "      <td>0.249024</td>\n",
       "      <td>1.000000</td>\n",
       "      <td>0.316354</td>\n",
       "    </tr>\n",
       "    <tr>\n",
       "      <th>Price</th>\n",
       "      <td>0.003195</td>\n",
       "      <td>0.167444</td>\n",
       "      <td>0.116445</td>\n",
       "      <td>-0.002946</td>\n",
       "      <td>-0.157168</td>\n",
       "      <td>-0.003600</td>\n",
       "      <td>0.506707</td>\n",
       "      <td>-0.506707</td>\n",
       "      <td>0.162072</td>\n",
       "      <td>0.615084</td>\n",
       "      <td>0.204589</td>\n",
       "      <td>0.005109</td>\n",
       "      <td>-0.499240</td>\n",
       "      <td>-0.050817</td>\n",
       "      <td>0.142732</td>\n",
       "      <td>0.316354</td>\n",
       "      <td>1.000000</td>\n",
       "    </tr>\n",
       "  </tbody>\n",
       "</table>\n",
       "</div>"
      ],
      "text/plain": [
       "                           Id     Maker     model  Location  Distance   \\\n",
       "Id                   1.000000  0.001951  0.005443  0.006571  -0.000279   \n",
       "Maker                0.001951  1.000000  0.522879 -0.000067  -0.096183   \n",
       "model                0.005443  0.522879  1.000000 -0.004809  -0.100732   \n",
       "Location             0.006571 -0.000067 -0.004809  1.000000   0.005306   \n",
       "Distance            -0.000279 -0.096183 -0.100732  0.005306   1.000000   \n",
       "Owner Type          -0.005769  0.001166  0.008655 -0.002221  -0.006642   \n",
       "manufacture_year     0.001935  0.098156  0.184303 -0.006115  -0.220387   \n",
       "Age of car          -0.001935 -0.098156 -0.184303  0.006115   0.220387   \n",
       "engine_displacement  0.003698 -0.029522 -0.066601  0.005436   0.094056   \n",
       "engine_power         0.002243  0.103468 -0.026463 -0.003632   0.013835   \n",
       "body_type            0.006882  0.214407  0.183176  0.002563  -0.203442   \n",
       "Vroom Audit Rating   0.005602 -0.004459  0.002909 -0.000397  -0.006229   \n",
       "transmission        -0.005550 -0.077202 -0.025839  0.000991   0.017285   \n",
       "door_count          -0.005810 -0.327378 -0.198986  0.000589   0.028727   \n",
       "seat_count           0.002489  0.012481  0.016781  0.000608  -0.050253   \n",
       "fuel_type           -0.001921 -0.134853 -0.177887 -0.005124   0.013961   \n",
       "Price                0.003195  0.167444  0.116445 -0.002946  -0.157168   \n",
       "\n",
       "                     Owner Type  manufacture_year  Age of car  \\\n",
       "Id                    -0.005769          0.001935   -0.001935   \n",
       "Maker                  0.001166          0.098156   -0.098156   \n",
       "model                  0.008655          0.184303   -0.184303   \n",
       "Location              -0.002221         -0.006115    0.006115   \n",
       "Distance              -0.006642         -0.220387    0.220387   \n",
       "Owner Type             1.000000          0.005409   -0.005409   \n",
       "manufacture_year       0.005409          1.000000   -1.000000   \n",
       "Age of car            -0.005409         -1.000000    1.000000   \n",
       "engine_displacement   -0.004116         -0.090401    0.090401   \n",
       "engine_power          -0.002925          0.050724   -0.050724   \n",
       "body_type              0.003512          0.252268   -0.252268   \n",
       "Vroom Audit Rating    -0.003931          0.003985   -0.003985   \n",
       "transmission           0.002788         -0.127930    0.127930   \n",
       "door_count             0.001360          0.118545   -0.118545   \n",
       "seat_count             0.002068          0.100646   -0.100646   \n",
       "fuel_type              0.000428          0.112386   -0.112386   \n",
       "Price                 -0.003600          0.506707   -0.506707   \n",
       "\n",
       "                     engine_displacement  engine_power  body_type  \\\n",
       "Id                              0.003698      0.002243   0.006882   \n",
       "Maker                          -0.029522      0.103468   0.214407   \n",
       "model                          -0.066601     -0.026463   0.183176   \n",
       "Location                        0.005436     -0.003632   0.002563   \n",
       "Distance                        0.094056      0.013835  -0.203442   \n",
       "Owner Type                     -0.004116     -0.002925   0.003512   \n",
       "manufacture_year               -0.090401      0.050724   0.252268   \n",
       "Age of car                      0.090401     -0.050724  -0.252268   \n",
       "engine_displacement             1.000000      0.312480  -0.259181   \n",
       "engine_power                    0.312480      1.000000   0.050893   \n",
       "body_type                      -0.259181      0.050893   1.000000   \n",
       "Vroom Audit Rating             -0.005828     -0.001199   0.007373   \n",
       "transmission                   -0.207715     -0.501451  -0.002888   \n",
       "door_count                      0.018502     -0.078433  -0.009763   \n",
       "seat_count                     -0.030327      0.079161   0.352785   \n",
       "fuel_type                       0.125746      0.287383   0.135149   \n",
       "Price                           0.162072      0.615084   0.204589   \n",
       "\n",
       "                     Vroom Audit Rating  transmission  door_count  seat_count  \\\n",
       "Id                             0.005602     -0.005550   -0.005810    0.002489   \n",
       "Maker                         -0.004459     -0.077202   -0.327378    0.012481   \n",
       "model                          0.002909     -0.025839   -0.198986    0.016781   \n",
       "Location                      -0.000397      0.000991    0.000589    0.000608   \n",
       "Distance                      -0.006229      0.017285    0.028727   -0.050253   \n",
       "Owner Type                    -0.003931      0.002788    0.001360    0.002068   \n",
       "manufacture_year               0.003985     -0.127930    0.118545    0.100646   \n",
       "Age of car                    -0.003985      0.127930   -0.118545   -0.100646   \n",
       "engine_displacement           -0.005828     -0.207715    0.018502   -0.030327   \n",
       "engine_power                  -0.001199     -0.501451   -0.078433    0.079161   \n",
       "body_type                      0.007373     -0.002888   -0.009763    0.352785   \n",
       "Vroom Audit Rating             1.000000      0.002945   -0.005009    0.002391   \n",
       "transmission                   0.002945      1.000000    0.021168   -0.094738   \n",
       "door_count                    -0.005009      0.021168    1.000000    0.354472   \n",
       "seat_count                     0.002391     -0.094738    0.354472    1.000000   \n",
       "fuel_type                      0.002789     -0.194639    0.245546    0.249024   \n",
       "Price                          0.005109     -0.499240   -0.050817    0.142732   \n",
       "\n",
       "                     fuel_type     Price  \n",
       "Id                   -0.001921  0.003195  \n",
       "Maker                -0.134853  0.167444  \n",
       "model                -0.177887  0.116445  \n",
       "Location             -0.005124 -0.002946  \n",
       "Distance              0.013961 -0.157168  \n",
       "Owner Type            0.000428 -0.003600  \n",
       "manufacture_year      0.112386  0.506707  \n",
       "Age of car           -0.112386 -0.506707  \n",
       "engine_displacement   0.125746  0.162072  \n",
       "engine_power          0.287383  0.615084  \n",
       "body_type             0.135149  0.204589  \n",
       "Vroom Audit Rating    0.002789  0.005109  \n",
       "transmission         -0.194639 -0.499240  \n",
       "door_count            0.245546 -0.050817  \n",
       "seat_count            0.249024  0.142732  \n",
       "fuel_type             1.000000  0.316354  \n",
       "Price                 0.316354  1.000000  "
      ]
     },
     "execution_count": 62,
     "metadata": {},
     "output_type": "execute_result"
    }
   ],
   "source": [
    "corre=df.corr()\n",
    "corre"
   ]
  },
  {
   "cell_type": "code",
   "execution_count": 63,
   "id": "4d361a80",
   "metadata": {},
   "outputs": [
    {
     "data": {
      "image/png": "[encoded data removed]",
      "text/plain": [
       "<Figure size 1440x648 with 2 Axes>"
      ]
     },
     "metadata": {},
     "output_type": "display_data"
    }
   ],
   "source": [
    "plt.figure(figsize=(20, 9))\n",
    "k=16\n",
    "cols = corre.nlargest(k, 'Price')['Price'].index\n",
    "cm = np.corrcoef(df[cols].values.T)\n",
    "sns.set(font_scale=1.25)\n",
    "hm = sns.heatmap(cm, cbar=True, annot=True, square=True, fmt='.2f', annot_kws={'size': 10}, \n",
    "                 yticklabels=cols.values, xticklabels=cols.values,cmap=\"Blues\")\n",
    "plt.show()"
   ]
  },
  {
   "cell_type": "code",
   "execution_count": 64,
   "id": "3444e328",
   "metadata": {},
   "outputs": [
    {
     "data": {
      "text/plain": [
       "((37460, 16), (16055, 16), (37460,), (16055,))"
      ]
     },
     "execution_count": 64,
     "metadata": {},
     "output_type": "execute_result"
    }
   ],
   "source": [
    "from sklearn.model_selection import train_test_split \n",
    "\n",
    "X_train, X_validation, y_train, y_validation = train_test_split(df_feature, df_target, test_size=0.3, random_state=2209)\n",
    "X_train.shape, X_validation.shape, y_train.shape, y_validation.shape\n"
   ]
  },
  {
   "cell_type": "code",
   "execution_count": 65,
   "id": "d9341390",
   "metadata": {},
   "outputs": [
    {
     "data": {
      "text/plain": [
       "((37460, 16), (16055, 16), (37460,), (16055,))"
      ]
     },
     "execution_count": 65,
     "metadata": {},
     "output_type": "execute_result"
    }
   ],
   "source": [
    "from sklearn.model_selection import train_test_split \n",
    "\n",
    "X_train, X_validation, y_train, y_validation = train_test_split(df_feature, df_target, test_size=0.3, random_state=2209)\n",
    "X_train.shape, X_validation.shape, y_train.shape, y_validation.shape\n"
   ]
  },
  {
   "cell_type": "code",
   "execution_count": 66,
   "id": "4189250b",
   "metadata": {},
   "outputs": [],
   "source": [
    "from sklearn.metrics import mean_squared_error, mean_absolute_error\n",
    "\n",
    "def evaluate_regr(y,pred):\n",
    "    # MAE\n",
    "    mae = mean_absolute_error(y,pred)\n",
    "    \n",
    "    # RMSE\n",
    "    rmse = np.sqrt(mean_squared_error(y,pred))\n",
    "    \n",
    "    # RMSLE\n",
    "    log_y = np.log1p(y)\n",
    "    log_pred = np.log1p(pred)\n",
    "    msle = np.mean((log_y - log_pred) ** 2)\n",
    "    rmsle = np.sqrt(msle)    \n",
    "    \n",
    "    print(f'MAE: {mae:.3f}, RMSE: {rmse:.3f}, RMSLE: {rmsle:.3f}')"
   ]
  },
  {
   "cell_type": "code",
   "execution_count": 67,
   "id": "ac988927",
   "metadata": {},
   "outputs": [
    {
     "name": "stdout",
     "output_type": "stream",
     "text": [
      "MAE: 312490.083, RMSE: 479348.496, RMSLE: 0.499\n"
     ]
    }
   ],
   "source": [
    "from sklearn.linear_model import LinearRegression , Ridge , Lasso\n",
    "\n",
    "lr_reg = LinearRegression()\n",
    "lr_reg.fit(X_train, y_train)\n",
    "pred = lr_reg.predict(X_validation)\n",
    "\n",
    "evaluate_regr(y_validation, pred)\n"
   ]
  },
  {
   "cell_type": "code",
   "execution_count": 58,
   "id": "260bbadb",
   "metadata": {},
   "outputs": [
    {
     "name": "stdout",
     "output_type": "stream",
     "text": [
      "# LinearRegression\n",
      "MAE: 312490.083, RMSE: 479348.496, RMSLE: 0.499\n",
      "# Ridge\n",
      "MAE: 312488.071, RMSE: 479349.070, RMSLE: 0.499\n",
      "# Lasso\n",
      "MAE: 312490.082, RMSE: 479348.497, RMSLE: 0.499\n"
     ]
    }
   ],
   "source": [
    "def get_model_predict(model, X_train, X_validation, y_train, y_validation):\n",
    "    model.fit(X_train, y_train)\n",
    "    pred = model.predict(X_validation)\n",
    "\n",
    "    print('#',model.__class__.__name__,)\n",
    "    evaluate_regr(y_validation, pred) \n",
    "\n",
    "lr_reg = LinearRegression()\n",
    "ridge_reg = Ridge(alpha=10)\n",
    "lasso_reg = Lasso(alpha=0.01)\n",
    "\n",
    "for model in [lr_reg, ridge_reg, lasso_reg]:\n",
    "    get_model_predict(model, X_train, X_validation, y_train, y_validation)"
   ]
  },
  {
   "cell_type": "code",
   "execution_count": 68,
   "id": "810dec93",
   "metadata": {},
   "outputs": [
    {
     "name": "stdout",
     "output_type": "stream",
     "text": [
      "# RandomForestRegressor\n",
      "MAE: 109889.557, RMSE: 202224.339, RMSLE: 0.273\n"
     ]
    }
   ],
   "source": [
    "from sklearn.ensemble import RandomForestRegressor, GradientBoostingRegressor\n",
    "from xgboost import XGBRegressor\n",
    "from lightgbm import LGBMRegressor\n",
    "\n",
    "rf_reg = RandomForestRegressor(n_estimators=10000)\n",
    "#gbm_reg = GradientBoostingRegressor(n_estimators=6000)\n",
    "#xgb_reg = XGBRegressor(n_estimators=6000)\n",
    "#lgbm_reg = LGBMRegressor(n_estimators=6000)\n",
    "\n",
    "for model in [rf_reg]:\n",
    "    get_model_predict(model,X_train, X_validation, y_train, y_validation)"
   ]
  },
  {
   "cell_type": "code",
   "execution_count": null,
   "id": "59bbc3b3",
   "metadata": {
    "scrolled": true
   },
   "outputs": [],
   "source": [
    "df.describe("
   ]
  },
  {
   "cell_type": "code",
   "execution_count": 69,
   "id": "33d8c95a",
   "metadata": {},
   "outputs": [
    {
     "data": {
      "text/html": [
       "<div>\n",
       "<style scoped>\n",
       "    .dataframe tbody tr th:only-of-type {\n",
       "        vertical-align: middle;\n",
       "    }\n",
       "\n",
       "    .dataframe tbody tr th {\n",
       "        vertical-align: top;\n",
       "    }\n",
       "\n",
       "    .dataframe thead th {\n",
       "        text-align: right;\n",
       "    }\n",
       "</style>\n",
       "<table border=\"1\" class=\"dataframe\">\n",
       "  <thead>\n",
       "    <tr style=\"text-align: right;\">\n",
       "      <th></th>\n",
       "      <th>Id</th>\n",
       "      <th>Distance</th>\n",
       "      <th>manufacture_year</th>\n",
       "      <th>Age of car</th>\n",
       "      <th>engine_displacement</th>\n",
       "      <th>engine_power</th>\n",
       "      <th>Vroom Audit Rating</th>\n",
       "    </tr>\n",
       "  </thead>\n",
       "  <tbody>\n",
       "    <tr>\n",
       "      <th>count</th>\n",
       "      <td>5615.000000</td>\n",
       "      <td>5.487000e+03</td>\n",
       "      <td>5615.000000</td>\n",
       "      <td>5615.000000</td>\n",
       "      <td>5615.000000</td>\n",
       "      <td>5447.000000</td>\n",
       "      <td>5615.00000</td>\n",
       "    </tr>\n",
       "    <tr>\n",
       "      <th>mean</th>\n",
       "      <td>13808.000000</td>\n",
       "      <td>9.589009e+04</td>\n",
       "      <td>2010.487622</td>\n",
       "      <td>8.512378</td>\n",
       "      <td>1875.839003</td>\n",
       "      <td>99.474573</td>\n",
       "      <td>5.99537</td>\n",
       "    </tr>\n",
       "    <tr>\n",
       "      <th>std</th>\n",
       "      <td>1621.055212</td>\n",
       "      <td>3.088547e+05</td>\n",
       "      <td>4.737177</td>\n",
       "      <td>4.737177</td>\n",
       "      <td>1402.871783</td>\n",
       "      <td>45.483800</td>\n",
       "      <td>1.39901</td>\n",
       "    </tr>\n",
       "    <tr>\n",
       "      <th>min</th>\n",
       "      <td>11001.000000</td>\n",
       "      <td>0.000000e+00</td>\n",
       "      <td>1950.000000</td>\n",
       "      <td>3.000000</td>\n",
       "      <td>100.000000</td>\n",
       "      <td>10.000000</td>\n",
       "      <td>4.00000</td>\n",
       "    </tr>\n",
       "    <tr>\n",
       "      <th>25%</th>\n",
       "      <td>12404.500000</td>\n",
       "      <td>1.441000e+04</td>\n",
       "      <td>2008.000000</td>\n",
       "      <td>5.000000</td>\n",
       "      <td>1390.000000</td>\n",
       "      <td>73.000000</td>\n",
       "      <td>5.00000</td>\n",
       "    </tr>\n",
       "    <tr>\n",
       "      <th>50%</th>\n",
       "      <td>13808.000000</td>\n",
       "      <td>6.400000e+04</td>\n",
       "      <td>2012.000000</td>\n",
       "      <td>7.000000</td>\n",
       "      <td>1798.000000</td>\n",
       "      <td>88.000000</td>\n",
       "      <td>6.00000</td>\n",
       "    </tr>\n",
       "    <tr>\n",
       "      <th>75%</th>\n",
       "      <td>15211.500000</td>\n",
       "      <td>1.338490e+05</td>\n",
       "      <td>2014.000000</td>\n",
       "      <td>11.000000</td>\n",
       "      <td>1984.000000</td>\n",
       "      <td>125.000000</td>\n",
       "      <td>7.00000</td>\n",
       "    </tr>\n",
       "    <tr>\n",
       "      <th>max</th>\n",
       "      <td>16615.000000</td>\n",
       "      <td>9.143000e+06</td>\n",
       "      <td>2016.000000</td>\n",
       "      <td>69.000000</td>\n",
       "      <td>32000.000000</td>\n",
       "      <td>968.000000</td>\n",
       "      <td>8.00000</td>\n",
       "    </tr>\n",
       "  </tbody>\n",
       "</table>\n",
       "</div>"
      ],
      "text/plain": [
       "                 Id     Distance   manufacture_year   Age of car  \\\n",
       "count   5615.000000  5.487000e+03       5615.000000  5615.000000   \n",
       "mean   13808.000000  9.589009e+04       2010.487622     8.512378   \n",
       "std     1621.055212  3.088547e+05          4.737177     4.737177   \n",
       "min    11001.000000  0.000000e+00       1950.000000     3.000000   \n",
       "25%    12404.500000  1.441000e+04       2008.000000     5.000000   \n",
       "50%    13808.000000  6.400000e+04       2012.000000     7.000000   \n",
       "75%    15211.500000  1.338490e+05       2014.000000    11.000000   \n",
       "max    16615.000000  9.143000e+06       2016.000000    69.000000   \n",
       "\n",
       "       engine_displacement  engine_power  Vroom Audit Rating  \n",
       "count          5615.000000   5447.000000          5615.00000  \n",
       "mean           1875.839003     99.474573             5.99537  \n",
       "std            1402.871783     45.483800             1.39901  \n",
       "min             100.000000     10.000000             4.00000  \n",
       "25%            1390.000000     73.000000             5.00000  \n",
       "50%            1798.000000     88.000000             6.00000  \n",
       "75%            1984.000000    125.000000             7.00000  \n",
       "max           32000.000000    968.000000             8.00000  "
      ]
     },
     "execution_count": 69,
     "metadata": {},
     "output_type": "execute_result"
    }
   ],
   "source": [
    "test_df.describe()"
   ]
  },
  {
   "cell_type": "code",
   "execution_count": 70,
   "id": "11294cb8",
   "metadata": {},
   "outputs": [],
   "source": [
    "test_df=test_df.replace('skoda','1').replace('fiat','2').replace('bmw','3').replace('nissan','4').replace('audi','5').replace('toyota','6').replace('hyundai','7').replace('maserati','8')\n",
    "test_df=test_df.replace('octavia','11').replace('panda','12').replace('x1','13').replace('juke','14').replace('x5','15').replace('superb','16').replace('qashqai','17').replace('coupe','18').replace('micra','19').replace('aygo','20').replace('yeti','21').replace('auris','22').replace('q3','23').replace('q5','24').replace('x3','25').replace('avensis','26').replace('i30','27').replace('q7','28').replace('tt','29').replace('citigo','30').replace('yaris','31').replace('roomster','32').replace('rapid','33')\n",
    "test_df=test_df.replace('Ahmedabad','90').replace('Hyderabad','91').replace('Mumbai','92').replace('Jaipur','93').replace('Chennai','94').replace('Coimbatore','95').replace('Kochi','96').replace('Bangalore','97').replace('Pune','98').replace('Kolkata','99').replace('Delhi','00')\n",
    "test_df=test_df.replace('Second','222').replace('Third','333').replace('Fourth & Above','444').replace('First','111')\n",
    "test_df=test_df.replace('compact','55').replace('van','66')\n",
    "test_df=test_df.replace('man','88').replace('auto','77')\n",
    "test_df=test_df.replace('petrol','0000').replace('diesel','1111')\n"
   ]
  },
  {
   "cell_type": "code",
   "execution_count": 72,
   "id": "2f1096e7",
   "metadata": {},
   "outputs": [],
   "source": [
    "test_df['Maker']=test_df['Maker'].astype(float)\n",
    "test_df['model']=test_df['model'].astype(float)\n",
    "test_df['Location']=test_df['Location'].astype(float)\n",
    "test_df['Owner Type']=test_df['Owner Type'].astype(float)\n",
    "test_df['body_type']=test_df['body_type'].astype(float)\n",
    "test_df['transmission']=test_df['transmission'].astype(float)\n",
    "test_df['door_count']=test_df['door_count'].astype(float)\n",
    "test_df['seat_count']=test_df['seat_count'].astype(float)\n",
    "test_df['fuel_type']=test_df['fuel_type'].astype(float)"
   ]
  },
  {
   "cell_type": "code",
   "execution_count": 71,
   "id": "06b37d29",
   "metadata": {},
   "outputs": [],
   "source": [
    "test_df= test_df.replace('None','4')\n",
    "test_df['engine_power'] = test_df['engine_power'].replace(np.nan, 99.474573)\n",
    "test_df['Distance '] = test_df['Distance '].replace(np.nan, 9.589009e+04)\n",
    "test_df['body_type'] = test_df['body_type'].replace(np.nan, 66)\n",
    "\n"
   ]
  },
  {
   "cell_type": "code",
   "execution_count": null,
   "id": "38ee8240",
   "metadata": {},
   "outputs": [],
   "source": [
    "test_df.head()"
   ]
  },
  {
   "cell_type": "code",
   "execution_count": 73,
   "id": "f5dbb8fd",
   "metadata": {},
   "outputs": [
    {
     "data": {
      "text/plain": [
       "array([ 382919.5872  ,  979176.10215 , 1835673.4173  , 2424107.0955  ,\n",
       "       3024384.13605 , 2705856.09765 , 3236542.277925, 2620383.231525,\n",
       "        442656.465825, 1380863.2224  , 3553983.665475, 1498876.542825,\n",
       "       1510112.655075, 1842257.84985 ,  684435.668175, 1001659.31955 ,\n",
       "       2252582.612325,  240978.41685 ,  716829.803925,  440367.8685  ])"
      ]
     },
     "execution_count": 73,
     "metadata": {},
     "output_type": "execute_result"
    }
   ],
   "source": [
    "prediction = rf_reg.predict(test_df)\n",
    "prediction[0:20] "
   ]
  },
  {
   "cell_type": "code",
   "execution_count": null,
   "id": "3895121a",
   "metadata": {},
   "outputs": [],
   "source": [
    "prediction_gbm = gbm_reg.predict(test_df)\n",
    "prediction_gbm[0:20]"
   ]
  },
  {
   "cell_type": "code",
   "execution_count": null,
   "id": "5e512b73",
   "metadata": {},
   "outputs": [],
   "source": [
    "prediction_xgb = xgb_reg.predict(test_df)\n",
    "prediction_xgb[0:20]"
   ]
  },
  {
   "cell_type": "code",
   "execution_count": null,
   "id": "c7762881",
   "metadata": {},
   "outputs": [],
   "source": [
    "prediction_lgbm = lgbm_reg.predict(test_df)\n",
    "prediction_lgbm[0:20]"
   ]
  },
  {
   "cell_type": "code",
   "execution_count": null,
   "id": "a0603a20",
   "metadata": {},
   "outputs": [],
   "source": [
    "np.any(np.isnan(test_df['engine_power']))"
   ]
  },
  {
   "cell_type": "code",
   "execution_count": null,
   "id": "5e91c99c",
   "metadata": {},
   "outputs": [],
   "source": [
    "np.all(np.isfinite(test_df))"
   ]
  },
  {
   "cell_type": "code",
   "execution_count": null,
   "id": "2cfb2a2c",
   "metadata": {},
   "outputs": [],
   "source": [
    "test_df.info()"
   ]
  },
  {
   "cell_type": "code",
   "execution_count": 74,
   "id": "dc128919",
   "metadata": {},
   "outputs": [
    {
     "data": {
      "text/html": [
       "<div>\n",
       "<style scoped>\n",
       "    .dataframe tbody tr th:only-of-type {\n",
       "        vertical-align: middle;\n",
       "    }\n",
       "\n",
       "    .dataframe tbody tr th {\n",
       "        vertical-align: top;\n",
       "    }\n",
       "\n",
       "    .dataframe thead th {\n",
       "        text-align: right;\n",
       "    }\n",
       "</style>\n",
       "<table border=\"1\" class=\"dataframe\">\n",
       "  <thead>\n",
       "    <tr style=\"text-align: right;\">\n",
       "      <th></th>\n",
       "      <th>Id</th>\n",
       "      <th>Price</th>\n",
       "    </tr>\n",
       "  </thead>\n",
       "  <tbody>\n",
       "    <tr>\n",
       "      <th>0</th>\n",
       "      <td>11001</td>\n",
       "      <td>3.829196e+05</td>\n",
       "    </tr>\n",
       "    <tr>\n",
       "      <th>1</th>\n",
       "      <td>11002</td>\n",
       "      <td>9.791761e+05</td>\n",
       "    </tr>\n",
       "    <tr>\n",
       "      <th>2</th>\n",
       "      <td>11003</td>\n",
       "      <td>1.835673e+06</td>\n",
       "    </tr>\n",
       "    <tr>\n",
       "      <th>3</th>\n",
       "      <td>11004</td>\n",
       "      <td>2.424107e+06</td>\n",
       "    </tr>\n",
       "    <tr>\n",
       "      <th>4</th>\n",
       "      <td>11005</td>\n",
       "      <td>3.024384e+06</td>\n",
       "    </tr>\n",
       "    <tr>\n",
       "      <th>5</th>\n",
       "      <td>11006</td>\n",
       "      <td>2.705856e+06</td>\n",
       "    </tr>\n",
       "    <tr>\n",
       "      <th>6</th>\n",
       "      <td>11007</td>\n",
       "      <td>3.236542e+06</td>\n",
       "    </tr>\n",
       "    <tr>\n",
       "      <th>7</th>\n",
       "      <td>11008</td>\n",
       "      <td>2.620383e+06</td>\n",
       "    </tr>\n",
       "    <tr>\n",
       "      <th>8</th>\n",
       "      <td>11009</td>\n",
       "      <td>4.426565e+05</td>\n",
       "    </tr>\n",
       "    <tr>\n",
       "      <th>9</th>\n",
       "      <td>11010</td>\n",
       "      <td>1.380863e+06</td>\n",
       "    </tr>\n",
       "  </tbody>\n",
       "</table>\n",
       "</div>"
      ],
      "text/plain": [
       "      Id         Price\n",
       "0  11001  3.829196e+05\n",
       "1  11002  9.791761e+05\n",
       "2  11003  1.835673e+06\n",
       "3  11004  2.424107e+06\n",
       "4  11005  3.024384e+06\n",
       "5  11006  2.705856e+06\n",
       "6  11007  3.236542e+06\n",
       "7  11008  2.620383e+06\n",
       "8  11009  4.426565e+05\n",
       "9  11010  1.380863e+06"
      ]
     },
     "execution_count": 74,
     "metadata": {},
     "output_type": "execute_result"
    }
   ],
   "source": [
    "submission = pd.DataFrame({'Id':test_df['Id'],'Price':prediction}) \n",
    "submission.head(10)"
   ]
  },
  {
   "cell_type": "code",
   "execution_count": 75,
   "id": "6873657d",
   "metadata": {},
   "outputs": [
    {
     "data": {
      "text/plain": [
       "Index(['Id', 'Price'], dtype='object')"
      ]
     },
     "execution_count": 75,
     "metadata": {},
     "output_type": "execute_result"
    }
   ],
   "source": [
    "submission.columns"
   ]
  },
  {
   "cell_type": "code",
   "execution_count": 76,
   "id": "157d1756",
   "metadata": {},
   "outputs": [],
   "source": [
    "submission.set_index('Id', inplace=True)"
   ]
  },
  {
   "cell_type": "code",
   "execution_count": 77,
   "id": "9608953f",
   "metadata": {},
   "outputs": [
    {
     "name": "stdout",
     "output_type": "stream",
     "text": [
      "Saved file: submission10krfgg.csv\n"
     ]
    }
   ],
   "source": [
    "filename = 'submission10krfgg.csv'\n",
    "\n",
    "submission.to_csv(filename,index=True)\n",
    "\n",
    "print('Saved file: ' + filename)"
   ]
  },
  {
   "cell_type": "code",
   "execution_count": null,
   "id": "8ebea03c",
   "metadata": {},
   "outputs": [],
   "source": []
  }
 ],
 "metadata": {
  "kernelspec": {
   "display_name": "Python 3 (ipykernel)",
   "language": "python",
   "name": "python3"
  },
  "language_info": {
   "codemirror_mode": {
    "name": "ipython",
    "version": 3
   },
   "file_extension": ".py",
   "mimetype": "text/x-python",
   "name": "python",
   "nbconvert_exporter": "python",
   "pygments_lexer": "ipython3",
   "version": "3.9.7"
  }
 },
 "nbformat": 4,
 "nbformat_minor": 5
}
